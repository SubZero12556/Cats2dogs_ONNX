{
  "nbformat": 4,
  "nbformat_minor": 0,
  "metadata": {
    "colab": {
      "name": "WorkingCatsToDogsPytorch",
      "provenance": [],
      "collapsed_sections": [],
      "machine_shape": "hm",
      "authorship_tag": "ABX9TyPU/J9TPJWaEKKx0vzfkr72",
      "include_colab_link": true
    },
    "kernelspec": {
      "name": "python3",
      "display_name": "Python 3"
    },
    "accelerator": "GPU"
  },
  "cells": [
    {
      "cell_type": "markdown",
      "metadata": {
        "id": "view-in-github",
        "colab_type": "text"
      },
      "source": [
        "<a href=\"https://colab.research.google.com/github/rtolps/Cats2dogs_ONNX/blob/master/WorkingCatsToDogsPytorch.ipynb\" target=\"_parent\"><img src=\"https://colab.research.google.com/assets/colab-badge.svg\" alt=\"Open In Colab\"/></a>"
      ]
    },
    {
      "cell_type": "code",
      "metadata": {
        "id": "JbTn2PbVmRJG",
        "colab": {
          "base_uri": "https://localhost:8080/"
        },
        "outputId": "bb426191-842b-4b6f-8048-a0096ed59296"
      },
      "source": [
        "!git clone https://github.com/rtolps/Cats2dogs_ONNX\r\n",
        "%cd Cats2dogs_ONNX"
      ],
      "execution_count": 1,
      "outputs": [
        {
          "output_type": "stream",
          "text": [
            "Cloning into 'Cats2dogs_ONNX'...\n",
            "remote: Enumerating objects: 2258, done.\u001b[K\n",
            "remote: Counting objects: 100% (2258/2258), done.\u001b[K\n",
            "remote: Compressing objects: 100% (2256/2256), done.\u001b[K\n",
            "remote: Total 2328 (delta 6), reused 2244 (delta 1), pack-reused 70\u001b[K\n",
            "Receiving objects: 100% (2328/2328), 17.72 MiB | 2.68 MiB/s, done.\n",
            "Resolving deltas: 100% (29/29), done.\n",
            "[Errno 2] No such file or directory: 'UGATIT-pytorch'\n",
            "/content\n"
          ],
          "name": "stdout"
        }
      ]
    },
    {
      "cell_type": "markdown",
      "metadata": {
        "id": "q7aTmO0SD-sl"
      },
      "source": [
        "Training"
      ]
    },
    {
      "cell_type": "code",
      "metadata": {
        "colab": {
          "base_uri": "https://localhost:8080/"
        },
        "id": "s8r1_NJtqasq",
        "outputId": "61a0b50e-f575-405b-9c5c-f455b9cec397"
      },
      "source": [
        "!python main.py --dataset cat2dog  --iteration 100 --light True --save_freq 100"
      ],
      "execution_count": 6,
      "outputs": [
        {
          "output_type": "stream",
          "text": [
            "number of epochs must be larger than or equal to one\n",
            "\n",
            "##### Information #####\n",
            "# light :  True\n",
            "# dataset :  cat2dog\n",
            "# batch_size :  1\n",
            "# iteration per epoch :  100\n",
            "\n",
            "##### Generator #####\n",
            "# residual blocks :  4\n",
            "\n",
            "##### Discriminator #####\n",
            "# discriminator layer :  6\n",
            "\n",
            "##### Weight #####\n",
            "# adv_weight :  1\n",
            "# cycle_weight :  10\n",
            "# identity_weight :  10\n",
            "# cam_weight :  1000\n",
            "training start !\n",
            "[    1/  100] time: 0.6670 d_loss: 7.76773453, g_loss: 9130.27832031\n",
            "[    2/  100] time: 1.1176 d_loss: 6.35385895, g_loss: 6551.73242188\n",
            "[    3/  100] time: 1.5729 d_loss: 5.29837990, g_loss: 3182.82543945\n",
            "[    4/  100] time: 2.0287 d_loss: 6.12912750, g_loss: 4493.97900391\n",
            "[    5/  100] time: 2.4836 d_loss: 5.12591743, g_loss: 7754.71484375\n",
            "[    6/  100] time: 2.9401 d_loss: 14.56841660, g_loss: 2550.55468750\n",
            "[    7/  100] time: 3.3942 d_loss: 5.33874416, g_loss: 1833.98693848\n",
            "[    8/  100] time: 3.8487 d_loss: 5.31162786, g_loss: 3417.45703125\n",
            "[    9/  100] time: 4.3033 d_loss: 5.36392784, g_loss: 4331.21582031\n",
            "[   10/  100] time: 4.7579 d_loss: 5.12092686, g_loss: 3497.83178711\n",
            "[   11/  100] time: 5.2152 d_loss: 5.58189487, g_loss: 2817.16503906\n",
            "[   12/  100] time: 5.6701 d_loss: 5.20947361, g_loss: 4324.27587891\n",
            "[   13/  100] time: 6.1279 d_loss: 5.19248867, g_loss: 3674.15258789\n",
            "[   14/  100] time: 6.5849 d_loss: 4.89115572, g_loss: 1428.60241699\n",
            "[   15/  100] time: 7.0391 d_loss: 4.65060282, g_loss: 3705.99658203\n",
            "[   16/  100] time: 7.4933 d_loss: 4.60697937, g_loss: 1794.64514160\n",
            "[   17/  100] time: 7.9488 d_loss: 5.58860683, g_loss: 7356.27636719\n",
            "[   18/  100] time: 8.4061 d_loss: 4.47439289, g_loss: 8716.10253906\n",
            "[   19/  100] time: 8.8632 d_loss: 4.81193256, g_loss: 2352.96997070\n",
            "[   20/  100] time: 9.3177 d_loss: 4.18783569, g_loss: 3681.17138672\n",
            "[   21/  100] time: 9.7725 d_loss: 4.81239891, g_loss: 4621.45898438\n",
            "[   22/  100] time: 10.2307 d_loss: 4.33470726, g_loss: 3892.36718750\n",
            "[   23/  100] time: 10.6858 d_loss: 3.90659952, g_loss: 3231.99682617\n",
            "[   24/  100] time: 11.1411 d_loss: 3.88937998, g_loss: 2630.20263672\n",
            "[   25/  100] time: 11.5984 d_loss: 4.46120167, g_loss: 5213.00244141\n",
            "[   26/  100] time: 12.0547 d_loss: 3.97796321, g_loss: 3833.22216797\n",
            "[   27/  100] time: 12.5097 d_loss: 4.43299103, g_loss: 3263.48876953\n",
            "[   28/  100] time: 12.9646 d_loss: 4.37830019, g_loss: 10673.14843750\n",
            "[   29/  100] time: 13.4196 d_loss: 3.81689215, g_loss: 2933.39990234\n",
            "[   30/  100] time: 13.8743 d_loss: 3.96133208, g_loss: 2064.80786133\n",
            "[   31/  100] time: 14.3284 d_loss: 4.28051758, g_loss: 4508.15136719\n",
            "[   32/  100] time: 14.7839 d_loss: 4.49030876, g_loss: 2702.19458008\n",
            "[   33/  100] time: 15.2386 d_loss: 4.05591202, g_loss: 3391.88842773\n",
            "[   34/  100] time: 15.6936 d_loss: 4.47294712, g_loss: 1460.73803711\n",
            "[   35/  100] time: 16.1484 d_loss: 4.23958015, g_loss: 2615.28515625\n",
            "[   36/  100] time: 16.6028 d_loss: 3.83323288, g_loss: 6007.30566406\n",
            "[   37/  100] time: 17.0572 d_loss: 4.25576401, g_loss: 6328.94970703\n",
            "[   38/  100] time: 17.5119 d_loss: 4.15751743, g_loss: 2336.13305664\n",
            "[   39/  100] time: 17.9704 d_loss: 3.72803068, g_loss: 3769.25048828\n",
            "[   40/  100] time: 18.4249 d_loss: 3.97751689, g_loss: 2433.79785156\n",
            "[   41/  100] time: 18.8797 d_loss: 3.66476679, g_loss: 5230.08398438\n",
            "[   42/  100] time: 19.3346 d_loss: 3.70994282, g_loss: 5858.72460938\n",
            "[   43/  100] time: 19.7900 d_loss: 4.16462231, g_loss: 1916.33862305\n",
            "[   44/  100] time: 20.2450 d_loss: 3.60668421, g_loss: 1764.48266602\n",
            "[   45/  100] time: 20.7045 d_loss: 3.69867706, g_loss: 2407.53906250\n",
            "[   46/  100] time: 21.1592 d_loss: 3.65496206, g_loss: 4625.95214844\n",
            "[   47/  100] time: 21.6143 d_loss: 3.37760282, g_loss: 3350.29907227\n",
            "[   48/  100] time: 22.0684 d_loss: 3.87252998, g_loss: 4720.71582031\n",
            "[   49/  100] time: 22.5230 d_loss: 3.81392717, g_loss: 4350.24853516\n",
            "[   50/  100] time: 22.9776 d_loss: 4.36503887, g_loss: 2103.79907227\n",
            "[   51/  100] time: 23.4317 d_loss: 3.82625532, g_loss: 1788.22094727\n",
            "[   52/  100] time: 23.8861 d_loss: 4.24029398, g_loss: 3247.47021484\n",
            "[   53/  100] time: 24.3404 d_loss: 4.05239868, g_loss: 3955.90478516\n",
            "[   54/  100] time: 24.7977 d_loss: 4.01343441, g_loss: 3006.00854492\n",
            "[   55/  100] time: 25.2522 d_loss: 4.09195518, g_loss: 8562.82226562\n",
            "[   56/  100] time: 25.7083 d_loss: 3.89331102, g_loss: 3006.53784180\n",
            "[   57/  100] time: 26.1653 d_loss: 3.75017691, g_loss: 1998.83666992\n",
            "[   58/  100] time: 26.6227 d_loss: 3.57222939, g_loss: 2558.65771484\n",
            "[   59/  100] time: 27.0769 d_loss: 3.74675345, g_loss: 2026.73168945\n",
            "[   60/  100] time: 27.5311 d_loss: 3.90673089, g_loss: 4802.05712891\n",
            "[   61/  100] time: 27.9884 d_loss: 3.95091105, g_loss: 6444.52001953\n",
            "[   62/  100] time: 28.4436 d_loss: 3.70780373, g_loss: 2912.02294922\n",
            "[   63/  100] time: 28.8983 d_loss: 4.10230160, g_loss: 5249.89306641\n",
            "[   64/  100] time: 29.3523 d_loss: 3.59383869, g_loss: 1839.11596680\n",
            "[   65/  100] time: 29.8070 d_loss: 3.62241054, g_loss: 3538.08618164\n",
            "[   66/  100] time: 30.2621 d_loss: 4.25139856, g_loss: 2811.62597656\n",
            "[   67/  100] time: 30.7200 d_loss: 3.83210897, g_loss: 4225.56787109\n",
            "[   68/  100] time: 31.1741 d_loss: 3.99491167, g_loss: 2689.90917969\n",
            "[   69/  100] time: 31.6290 d_loss: 4.03982210, g_loss: 3057.41040039\n",
            "[   70/  100] time: 32.0857 d_loss: 4.05346584, g_loss: 2558.73095703\n",
            "[   71/  100] time: 32.5423 d_loss: 3.54809999, g_loss: 2869.67651367\n",
            "[   72/  100] time: 32.9968 d_loss: 3.74295759, g_loss: 1835.46081543\n",
            "[   73/  100] time: 33.4561 d_loss: 3.62643099, g_loss: 4102.70361328\n",
            "[   74/  100] time: 33.9137 d_loss: 3.79994202, g_loss: 2378.91992188\n",
            "[   75/  100] time: 34.3676 d_loss: 3.81697679, g_loss: 1562.94311523\n",
            "[   76/  100] time: 34.8222 d_loss: 3.30358410, g_loss: 1560.88439941\n",
            "[   77/  100] time: 35.2768 d_loss: 3.44341564, g_loss: 3755.07250977\n",
            "[   78/  100] time: 35.7318 d_loss: 2.88490224, g_loss: 1897.23583984\n",
            "[   79/  100] time: 36.1860 d_loss: 4.27580595, g_loss: 3649.61987305\n",
            "[   80/  100] time: 36.6401 d_loss: 3.99326849, g_loss: 4885.81835938\n",
            "[   81/  100] time: 37.0941 d_loss: 3.93283367, g_loss: 2387.86279297\n",
            "[   82/  100] time: 37.5497 d_loss: 3.93914652, g_loss: 1628.98876953\n",
            "[   83/  100] time: 38.0040 d_loss: 5.04718494, g_loss: 5003.74658203\n",
            "[   84/  100] time: 38.4587 d_loss: 3.55907202, g_loss: 2161.77490234\n",
            "[   85/  100] time: 38.9141 d_loss: 3.20439768, g_loss: 1499.70007324\n",
            "[   86/  100] time: 39.3706 d_loss: 3.26785612, g_loss: 1465.01855469\n",
            "[   87/  100] time: 39.8257 d_loss: 3.75531483, g_loss: 1711.17321777\n",
            "[   88/  100] time: 40.2842 d_loss: 4.38017845, g_loss: 4693.00488281\n",
            "[   89/  100] time: 40.7403 d_loss: 3.75881052, g_loss: 1534.63146973\n",
            "[   90/  100] time: 41.1970 d_loss: 3.94539595, g_loss: 1582.02880859\n",
            "[   91/  100] time: 41.6538 d_loss: 3.96167088, g_loss: 4881.13378906\n",
            "[   92/  100] time: 42.1099 d_loss: 3.40171266, g_loss: 2706.80932617\n",
            "[   93/  100] time: 42.5632 d_loss: 3.83635092, g_loss: 2406.92114258\n",
            "[   94/  100] time: 43.0172 d_loss: 3.55423594, g_loss: 2585.41430664\n",
            "[   95/  100] time: 43.4723 d_loss: 3.96330380, g_loss: 1545.27124023\n",
            "[   96/  100] time: 43.9300 d_loss: 3.86473942, g_loss: 1994.86828613\n",
            "[   97/  100] time: 44.3844 d_loss: 4.11800575, g_loss: 2681.37109375\n",
            "[   98/  100] time: 44.8396 d_loss: 4.15403318, g_loss: 1482.58312988\n",
            "[   99/  100] time: 45.2958 d_loss: 3.71120524, g_loss: 4154.99804688\n",
            "[  100/  100] time: 45.7509 d_loss: 3.55314374, g_loss: 1689.94897461\n",
            " [*] Training finished!\n"
          ],
          "name": "stdout"
        }
      ]
    },
    {
      "cell_type": "markdown",
      "metadata": {
        "id": "LxWRbl3moZHj"
      },
      "source": [
        "Testing"
      ]
    },
    {
      "cell_type": "code",
      "metadata": {
        "colab": {
          "base_uri": "https://localhost:8080/"
        },
        "id": "oBIHMCrlrofc",
        "outputId": "6823f130-4de4-4e6d-cb26-16a788c5f4bf"
      },
      "source": [
        "!python main.py --dataset  cat2dog --iteration 100 --phase test --light True"
      ],
      "execution_count": 7,
      "outputs": [
        {
          "output_type": "stream",
          "text": [
            "number of epochs must be larger than or equal to one\n",
            "\n",
            "##### Information #####\n",
            "# light :  True\n",
            "# dataset :  cat2dog\n",
            "# batch_size :  1\n",
            "# iteration per epoch :  100\n",
            "\n",
            "##### Generator #####\n",
            "# residual blocks :  4\n",
            "\n",
            "##### Discriminator #####\n",
            "# discriminator layer :  6\n",
            "\n",
            "##### Weight #####\n",
            "# adv_weight :  1\n",
            "# cycle_weight :  10\n",
            "# identity_weight :  10\n",
            "# cam_weight :  1000\n",
            " [*] Load SUCCESS\n",
            " [*] Test finished!\n"
          ],
          "name": "stdout"
        }
      ]
    },
    {
      "cell_type": "markdown",
      "metadata": {
        "id": "bfM0lxlmG4pf"
      },
      "source": [
        "**WARNING PART BELOW NOT WORKING!**\r\n",
        "\r\n",
        "Export ONNX  call a custom script (modifiedmain.py probably) where \"test\" feature is turned into export feature. I added code (which is commented) at the bottom of the UGATIT script to return out genA2B for exporting per [this Snapchat Guide.](https://lensstudio.snapchat.com/guides/machine-learning/ml-frameworks/export-from-pytorch/)"
      ]
    },
    {
      "cell_type": "code",
      "metadata": {
        "id": "zSMvbQ-UorRH",
        "colab": {
          "base_uri": "https://localhost:8080/"
        },
        "outputId": "68632fe9-345a-47bd-a6c4-a88cb78ed439"
      },
      "source": [
        "!python modifiedmain.py --dataset  cat2dog --iteration 100 --phase test --light True"
      ],
      "execution_count": 14,
      "outputs": [
        {
          "output_type": "stream",
          "text": [
            "number of epochs must be larger than or equal to one\n",
            "\n",
            "##### Information #####\n",
            "# light :  True\n",
            "# dataset :  cat2dog\n",
            "# batch_size :  1\n",
            "# iteration per epoch :  100\n",
            "\n",
            "##### Generator #####\n",
            "# residual blocks :  4\n",
            "\n",
            "##### Discriminator #####\n",
            "# discriminator layer :  6\n",
            "\n",
            "##### Weight #####\n",
            "# adv_weight :  1\n",
            "# cycle_weight :  10\n",
            "# identity_weight :  10\n",
            "# cam_weight :  1000\n",
            "Traceback (most recent call last):\n",
            "  File \"modifiedmain.py\", line 91, in <module>\n",
            "    main()\n",
            "  File \"modifiedmain.py\", line 87, in main\n",
            "    opset_version=11)        \n",
            "  File \"/usr/local/lib/python3.6/dist-packages/torch/onnx/__init__.py\", line 230, in export\n",
            "    custom_opsets, enable_onnx_checker, use_external_data_format)\n",
            "  File \"/usr/local/lib/python3.6/dist-packages/torch/onnx/utils.py\", line 91, in export\n",
            "    use_external_data_format=use_external_data_format)\n",
            "  File \"/usr/local/lib/python3.6/dist-packages/torch/onnx/utils.py\", line 618, in _export\n",
            "    with select_model_mode_for_export(model, training):\n",
            "  File \"/usr/lib/python3.6/contextlib.py\", line 81, in __enter__\n",
            "    return next(self.gen)\n",
            "  File \"/usr/local/lib/python3.6/dist-packages/torch/onnx/utils.py\", line 35, in select_model_mode_for_export\n",
            "    is_originally_training = model.training\n",
            "AttributeError: 'UGATIT' object has no attribute 'training'\n"
          ],
          "name": "stdout"
        }
      ]
    }
  ]
}
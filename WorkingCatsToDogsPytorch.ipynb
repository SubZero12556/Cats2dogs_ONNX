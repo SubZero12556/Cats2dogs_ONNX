{
  "nbformat": 4,
  "nbformat_minor": 0,
  "metadata": {
    "colab": {
      "name": "WorkingCatsToDogsPytorch",
      "provenance": [],
      "collapsed_sections": [],
      "machine_shape": "hm",
      "authorship_tag": "ABX9TyPU/J9TPJWaEKKx0vzfkr72",
      "include_colab_link": true
    },
    "kernelspec": {
      "name": "python3",
      "display_name": "Python 3"
    },
    "accelerator": "GPU"
  },
  "cells": [
    {
      "cell_type": "markdown",
      "metadata": {
        "id": "view-in-github",
        "colab_type": "text"
      },
      "source": [
        "<a href=\"https://colab.research.google.com/github/rtolps/Cats2dogs_ONNX/blob/master/WorkingCatsToDogsPytorch.ipynb\" target=\"_parent\"><img src=\"https://colab.research.google.com/assets/colab-badge.svg\" alt=\"Open In Colab\"/></a>"
      ]
    },
    {
      "cell_type": "code",
      "metadata": {
        "id": "JbTn2PbVmRJG"
      },
      "source": [
        "!git clone https://github.com/rtolps/Cats2dogs_ONNX\r\n",
        "%cd Cats2dogs_ONNX"
      ],
      "execution_count": null,
      "outputs": []
    },
    {
      "cell_type": "markdown",
      "metadata": {
        "id": "q7aTmO0SD-sl"
      },
      "source": [
        "Training"
      ]
    },
    {
      "cell_type": "code",
      "metadata": {
        "id": "s8r1_NJtqasq"
      },
      "source": [
        "!python main.py --dataset cat2dog  --iteration 100 --light True --save_freq 100"
      ],
      "execution_count": null,
      "outputs": []
    },
    {
      "cell_type": "markdown",
      "metadata": {
        "id": "LxWRbl3moZHj"
      },
      "source": [
        "Testing"
      ]
    },
    {
      "cell_type": "code",
      "metadata": {
        "id": "oBIHMCrlrofc"
      },
      "source": [
        "!python main.py --dataset  cat2dog --iteration 100 --phase test --light True"
      ],
      "execution_count": null,
      "outputs": []
    },
    {
      "cell_type": "markdown",
      "metadata": {
        "id": "bfM0lxlmG4pf"
      },
      "source": [
        "**WARNING PART BELOW NOT WORKING!**\r\n",
        "\r\n",
        "Export ONNX  call a custom script (modifiedmain.py probably) where \"test\" feature is turned into export feature. I added code (which is commented) at the bottom of the UGATIT script to return out genA2B for exporting per [this Snapchat Guide.](https://lensstudio.snapchat.com/guides/machine-learning/ml-frameworks/export-from-pytorch/)"
      ]
    },
    {
      "cell_type": "code",
      "metadata": {
        "id": "zSMvbQ-UorRH"
      },
      "source": [
        "!python modifiedmain.py --dataset  cat2dog --iteration 100 --phase test --light True"
      ],
      "execution_count": null,
      "outputs": []
    }
  ]
}